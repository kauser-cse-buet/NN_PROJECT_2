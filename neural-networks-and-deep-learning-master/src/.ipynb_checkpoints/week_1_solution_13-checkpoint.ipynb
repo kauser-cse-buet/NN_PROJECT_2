{
 "cells": [
  {
   "cell_type": "code",
   "execution_count": 2,
   "metadata": {},
   "outputs": [
    {
     "name": "stdout",
     "output_type": "stream",
     "text": [
      "Training data, validation data and test data loaded.\n"
     ]
    }
   ],
   "source": [
    "import mnist_loader\n",
    "import numpy as np \n",
    "import pandas as pd \n",
    "\n",
    "training_data, validation_data, test_data = mnist_loader.load_data_wrapper()\n",
    "print(\"Training data, validation data and test data loaded.\")\n",
    "\n"
   ]
  },
  {
   "cell_type": "code",
   "execution_count": 3,
   "metadata": {},
   "outputs": [
    {
     "name": "stdout",
     "output_type": "stream",
     "text": [
      "13. Repeat 12 for a deep network with two hidden layers, with 30 neuron in each.\n"
     ]
    }
   ],
   "source": [
    "print(\"13. Repeat 12 for a deep network with two hidden layers, with 30 neuron in each.\")"
   ]
  },
  {
   "cell_type": "code",
   "execution_count": null,
   "metadata": {
    "collapsed": true
   },
   "outputs": [],
   "source": [
    "net2_all_train = network2.Network([784, 30, 30, 10], cost=network2.CrossEntropyCost)\n",
    "net2_all_train.large_weight_initializer()\n",
    "\n",
    "epochs = 2\n",
    "\n",
    "evaluation_cost_all_train, evaluation_accuracy_all_train, training_cost_all_train, training_accuracy_all_train = net2_all_train.SGD(\n",
    "    training_data, \n",
    "    epochs, \n",
    "    10, \n",
    "    0.5, \n",
    "    evaluation_data=test_data,\n",
    "    lmbda=5.0,\n",
    "    monitor_evaluation_cost=True,\n",
    "    monitor_evaluation_accuracy=True,\n",
    "    monitor_training_cost=True,\n",
    "    monitor_training_accuracy=True\n",
    ")"
   ]
  }
 ],
 "metadata": {
  "kernelspec": {
   "display_name": "Python 2",
   "language": "python",
   "name": "python2"
  },
  "language_info": {
   "codemirror_mode": {
    "name": "ipython",
    "version": 2
   },
   "file_extension": ".py",
   "mimetype": "text/x-python",
   "name": "python",
   "nbconvert_exporter": "python",
   "pygments_lexer": "ipython2",
   "version": "2.7.13"
  }
 },
 "nbformat": 4,
 "nbformat_minor": 2
}
