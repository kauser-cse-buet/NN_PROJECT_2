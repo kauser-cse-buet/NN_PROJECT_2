{
 "cells": [
  {
   "cell_type": "code",
   "execution_count": 1,
   "metadata": {},
   "outputs": [
    {
     "name": "stdout",
     "output_type": "stream",
     "text": [
      "Training data, validation data and test data loaded.\n"
     ]
    }
   ],
   "source": [
    "import mnist_loader\n",
    "import numpy as np \n",
    "import pandas as pd \n",
    "\n",
    "training_data, validation_data, test_data = mnist_loader.load_data_wrapper()\n",
    "print(\"Training data, validation data and test data loaded.\")"
   ]
  },
  {
   "cell_type": "code",
   "execution_count": 6,
   "metadata": {},
   "outputs": [
    {
     "name": "stdout",
     "output_type": "stream",
     "text": [
      "Epoch 0 training complete\n",
      "Cost on training data: 2.01853622486\n",
      "Accuracy on training data: 43249 / 50000\n",
      "Cost on evaluation data: 6.88107897306\n",
      "Accuracy on evaluation data: 8659 / 10000\n",
      "\n",
      "Epoch 1 training complete\n",
      "Cost on training data: 1.7207361985\n",
      "Accuracy on training data: 45045 / 50000\n",
      "Cost on evaluation data: 6.17869780558\n",
      "Accuracy on evaluation data: 9008 / 10000\n",
      "\n",
      "Epoch 2 training complete\n",
      "Cost on training data: 1.52350220337\n",
      "Accuracy on training data: 45966 / 50000\n",
      "Cost on evaluation data: 5.62061458735\n",
      "Accuracy on evaluation data: 9163 / 10000\n",
      "\n"
     ]
    }
   ],
   "source": [
    "import network2\n",
    "net2_all_train = network2.Network([784,100,10], cost=network2.CrossEntropyCost)\n",
    "net2_all_train.large_weight_initializer()\n",
    "\n",
    "epochs = 400\n",
    "\n",
    "evaluation_cost_all_train, evaluation_accuracy_all_train, training_cost_all_train, training_accuracy_all_train = net2_all_train.SGD(  \n",
    "    training_data=training_data, \n",
    "    epochs=epochs, \n",
    "    mini_batch_size=10, \n",
    "    eta=0.1,\n",
    "    evaluation_data=test_data,\n",
    "    lmbda=5.0,\n",
    "    monitor_evaluation_cost=True,\n",
    "    monitor_evaluation_accuracy=True,\n",
    "    monitor_training_cost=True,\n",
    "    monitor_training_accuracy=True\n",
    ")"
   ]
  },
  {
   "cell_type": "code",
   "execution_count": 3,
   "metadata": {},
   "outputs": [
    {
     "name": "stdout",
     "output_type": "stream",
     "text": [
      "Epoch 0 training complete\n"
     ]
    },
    {
     "name": "stderr",
     "output_type": "stream",
     "text": [
      "network2.py:54: RuntimeWarning: invalid value encountered in log\n",
      "  return np.sum(np.nan_to_num(-y*np.log(a)-(1-y)*np.log(1-a)))\n"
     ]
    },
    {
     "name": "stdout",
     "output_type": "stream",
     "text": [
      "Cost on training data: 84.4888947588\n",
      "Accuracy on training data: 5175 / 50000\n",
      "Cost on evaluation data: 88.0716691086\n",
      "Accuracy on evaluation data: 1028 / 10000\n",
      "\n",
      "Epoch 1 training complete\n",
      "Cost on training data: 43.8486863202\n",
      "Accuracy on training data: 4988 / 50000\n",
      "Cost on evaluation data: 46.056327116\n",
      "Accuracy on evaluation data: 1009 / 10000\n",
      "\n"
     ]
    }
   ],
   "source": [
    "network2 = reload(network2)\n",
    "\n",
    "net2_all_train = network2.Network([784, 30, 30, 30, 30, 10], cost=network2.CrossEntropyCost, activation_fn=network2.TanhActivation)\n",
    "net2_all_train.large_weight_initializer()\n",
    "\n",
    "epochs = 2\n",
    "\n",
    "evaluation_cost_all_train, evaluation_accuracy_all_train, training_cost_all_train, training_accuracy_all_train = net2_all_train.SGD(\n",
    "    training_data, \n",
    "    epochs, \n",
    "    10, \n",
    "    0.5, \n",
    "    evaluation_data=test_data,\n",
    "    lmbda=5.0,\n",
    "    monitor_evaluation_cost=True,\n",
    "    monitor_evaluation_accuracy=True,\n",
    "    monitor_training_cost=True,\n",
    "    monitor_training_accuracy=True\n",
    ")"
   ]
  },
  {
   "cell_type": "code",
   "execution_count": 8,
   "metadata": {},
   "outputs": [
    {
     "ename": "NameError",
     "evalue": "name 'SigmoidActivation' is not defined",
     "output_type": "error",
     "traceback": [
      "\u001b[1;31m---------------------------------------------------------------------------\u001b[0m",
      "\u001b[1;31mNameError\u001b[0m                                 Traceback (most recent call last)",
      "\u001b[1;32m<ipython-input-8-fc9368900976>\u001b[0m in \u001b[0;36m<module>\u001b[1;34m()\u001b[0m\n\u001b[1;32m----> 1\u001b[1;33m \u001b[0mnetwork2\u001b[0m \u001b[1;33m=\u001b[0m \u001b[0mreload\u001b[0m\u001b[1;33m(\u001b[0m\u001b[0mnetwork2\u001b[0m\u001b[1;33m)\u001b[0m\u001b[1;33m\u001b[0m\u001b[0m\n\u001b[0m",
      "\u001b[1;32mC:\\Users\\mahmmed\\Google Drive\\UNO\\spring_2018\\ENEE6583-001 - Neural Networks\\project_2\\neural-networks-and-deep-learning-master\\src\\network2.py\u001b[0m in \u001b[0;36m<module>\u001b[1;34m()\u001b[0m\n\u001b[0;32m     66\u001b[0m \u001b[1;33m\u001b[0m\u001b[0m\n\u001b[0;32m     67\u001b[0m \u001b[1;31m#### Main Network class\u001b[0m\u001b[1;33m\u001b[0m\u001b[1;33m\u001b[0m\u001b[0m\n\u001b[1;32m---> 68\u001b[1;33m \u001b[1;32mclass\u001b[0m \u001b[0mNetwork\u001b[0m\u001b[1;33m(\u001b[0m\u001b[0mobject\u001b[0m\u001b[1;33m)\u001b[0m\u001b[1;33m:\u001b[0m\u001b[1;33m\u001b[0m\u001b[0m\n\u001b[0m\u001b[0;32m     69\u001b[0m \u001b[1;33m\u001b[0m\u001b[0m\n\u001b[0;32m     70\u001b[0m     \u001b[1;32mdef\u001b[0m \u001b[0m__init__\u001b[0m\u001b[1;33m(\u001b[0m\u001b[0mself\u001b[0m\u001b[1;33m,\u001b[0m \u001b[0msizes\u001b[0m\u001b[1;33m,\u001b[0m \u001b[0mcost\u001b[0m\u001b[1;33m=\u001b[0m\u001b[0mCrossEntropyCost\u001b[0m\u001b[1;33m,\u001b[0m \u001b[0mactivation_fn\u001b[0m\u001b[1;33m=\u001b[0m\u001b[0mSigmoidActivation\u001b[0m\u001b[1;33m)\u001b[0m\u001b[1;33m:\u001b[0m\u001b[1;33m\u001b[0m\u001b[0m\n",
      "\u001b[1;32mC:\\Users\\mahmmed\\Google Drive\\UNO\\spring_2018\\ENEE6583-001 - Neural Networks\\project_2\\neural-networks-and-deep-learning-master\\src\\network2.py\u001b[0m in \u001b[0;36mNetwork\u001b[1;34m()\u001b[0m\n\u001b[0;32m     68\u001b[0m \u001b[1;32mclass\u001b[0m \u001b[0mNetwork\u001b[0m\u001b[1;33m(\u001b[0m\u001b[0mobject\u001b[0m\u001b[1;33m)\u001b[0m\u001b[1;33m:\u001b[0m\u001b[1;33m\u001b[0m\u001b[0m\n\u001b[0;32m     69\u001b[0m \u001b[1;33m\u001b[0m\u001b[0m\n\u001b[1;32m---> 70\u001b[1;33m     \u001b[1;32mdef\u001b[0m \u001b[0m__init__\u001b[0m\u001b[1;33m(\u001b[0m\u001b[0mself\u001b[0m\u001b[1;33m,\u001b[0m \u001b[0msizes\u001b[0m\u001b[1;33m,\u001b[0m \u001b[0mcost\u001b[0m\u001b[1;33m=\u001b[0m\u001b[0mCrossEntropyCost\u001b[0m\u001b[1;33m,\u001b[0m \u001b[0mactivation_fn\u001b[0m\u001b[1;33m=\u001b[0m\u001b[0mSigmoidActivation\u001b[0m\u001b[1;33m)\u001b[0m\u001b[1;33m:\u001b[0m\u001b[1;33m\u001b[0m\u001b[0m\n\u001b[0m\u001b[0;32m     71\u001b[0m         \"\"\"The list ``sizes`` contains the number of neurons in the respective\n\u001b[0;32m     72\u001b[0m         \u001b[0mlayers\u001b[0m \u001b[0mof\u001b[0m \u001b[0mthe\u001b[0m \u001b[0mnetwork\u001b[0m\u001b[1;33m.\u001b[0m  \u001b[0mFor\u001b[0m \u001b[0mexample\u001b[0m\u001b[1;33m,\u001b[0m \u001b[1;32mif\u001b[0m \u001b[0mthe\u001b[0m \u001b[0mlist\u001b[0m \u001b[0mwas\u001b[0m \u001b[1;33m[\u001b[0m\u001b[1;36m2\u001b[0m\u001b[1;33m,\u001b[0m \u001b[1;36m3\u001b[0m\u001b[1;33m,\u001b[0m \u001b[1;36m1\u001b[0m\u001b[1;33m]\u001b[0m\u001b[1;33m\u001b[0m\u001b[0m\n",
      "\u001b[1;31mNameError\u001b[0m: name 'SigmoidActivation' is not defined"
     ]
    }
   ],
   "source": []
  },
  {
   "cell_type": "code",
   "execution_count": null,
   "metadata": {
    "collapsed": true
   },
   "outputs": [],
   "source": []
  }
 ],
 "metadata": {
  "kernelspec": {
   "display_name": "Python 2",
   "language": "python",
   "name": "python2"
  },
  "language_info": {
   "codemirror_mode": {
    "name": "ipython",
    "version": 2
   },
   "file_extension": ".py",
   "mimetype": "text/x-python",
   "name": "python",
   "nbconvert_exporter": "python",
   "pygments_lexer": "ipython2",
   "version": "2.7.13"
  }
 },
 "nbformat": 4,
 "nbformat_minor": 2
}
