{
 "cells": [
  {
   "cell_type": "code",
   "execution_count": 1,
   "metadata": {},
   "outputs": [
    {
     "name": "stdout",
     "output_type": "stream",
     "text": [
      "Downloading: ../data/mnist.pkl.gz Bytes: 17051982\n",
      "# Completed downloading file: mnist.pkl.gz\n"
     ]
    }
   ],
   "source": [
    "import os \n",
    "import urllib2\n",
    "# import urllib\n",
    "import io\n",
    "import gzip\n",
    "\n",
    "def download_file(remote, local):\n",
    "    url = remote\n",
    "\n",
    "    u = urllib2.urlopen(url)\n",
    "    f = open(local, 'wb')\n",
    "    meta = u.info()\n",
    "    \n",
    "    file_size = int(meta.getheaders(\"Content-Length\")[0])\n",
    "    print \"Downloading: %s Bytes: %s\" % (local, file_size)\n",
    "\n",
    "    file_size_dl = 0\n",
    "    block_sz = 8192\n",
    "    while True:\n",
    "        buffer = u.read(block_sz)\n",
    "        if not buffer:\n",
    "            break\n",
    "\n",
    "        file_size_dl += len(buffer)\n",
    "        f.write(buffer)\n",
    "        status = r\"%10d  [%3.2f%%]\" % (file_size_dl, file_size_dl * 100. / file_size)\n",
    "        status = status + chr(8)*(len(status)+1)\n",
    "#         print status,\n",
    "\n",
    "    f.close()\n",
    "\n",
    "\n",
    "data_dir = \"../data\"\n",
    "data_file_url = \"https://github.com/mnielsen/neural-networks-and-deep-learning/raw/master/data/mnist.pkl.gz\"\n",
    "if os.path.exists(data_dir) == False:\n",
    "    os.makedirs(data_dir)\n",
    "    print(\"Directory created: \" + data_dir)\n",
    "\n",
    "    \n",
    "data_filename = \"mnist.pkl.gz\"\n",
    "data_filepath = data_dir + \"/\" + data_filename \n",
    "\n",
    "download_file(remote = data_file_url, local = data_filepath)\n",
    "\n",
    "\n",
    "# with urllib2.urlopen(data_file_url) as d:\n",
    "#     data = d.read()\n",
    "#     d.close()\n",
    "\n",
    "# with open(data_filepath, 'wb') as f:\n",
    "#     f.write(data)\n",
    "\n",
    "print(\"# Completed downloading file: \" + data_filename)"
   ]
  },
  {
   "cell_type": "code",
   "execution_count": 2,
   "metadata": {},
   "outputs": [
    {
     "name": "stdout",
     "output_type": "stream",
     "text": [
      "Training data, validation data and test data loaded.\n"
     ]
    }
   ],
   "source": [
    "import mnist_loader\n",
    "import numpy as np \n",
    "import pandas as pd \n",
    "\n",
    "training_data, validation_data, test_data = mnist_loader.load_data_wrapper()\n",
    "print(\"Training data, validation data and test data loaded.\")"
   ]
  },
  {
   "cell_type": "code",
   "execution_count": 6,
   "metadata": {},
   "outputs": [
    {
     "ename": "SyntaxError",
     "evalue": "invalid syntax (<ipython-input-6-aba2b05143aa>, line 26)",
     "output_type": "error",
     "traceback": [
      "\u001b[1;36m  File \u001b[1;32m\"<ipython-input-6-aba2b05143aa>\"\u001b[1;36m, line \u001b[1;32m26\u001b[0m\n\u001b[1;33m    monitor_training_accuracy=True\u001b[0m\n\u001b[1;37m                            ^\u001b[0m\n\u001b[1;31mSyntaxError\u001b[0m\u001b[1;31m:\u001b[0m invalid syntax\n"
     ]
    }
   ],
   "source": [
    "message = \"\"\"\n",
    "Repeat 8,9 using a regularization parameter lambda=0.1 (note python has a reserved word lambda):\n",
    "net.SGD(training_data[:1000], 400, 10, 0.5,\n",
    "... evaluation_data=test_data, lmbda = 0.1,\n",
    "... monitor_evaluation_cost=True, monitor_evaluation_accuracy=True,\n",
    "... monitor_training_cost=True, monitor_training_accuracy=True)\n",
    "\"\"\"\n",
    "\n",
    "import network2\n",
    "\n",
    "net2 = network2.Network([784, 30, 10], cost=network2.CrossEntropyCost)\n",
    "net2.large_weight_initializer()\n",
    "\n",
    "epochs = 3\n",
    "\n",
    "evaluation_cost, evaluation_accuracy, training_cost, training_accuracy = net2.SGD(\n",
    "    training_data[:10000], \n",
    "    epochs, \n",
    "    10, \n",
    "    0.5, \n",
    "    evaluation_data=test_data,\n",
    "    lmbda=0.1,\n",
    "    monitor_evaluation_cost=True,\n",
    "    monitor_evaluation_accuracy=True,\n",
    "    monitor_training_cost=True\n",
    "    monitor_training_accuracy=True\n",
    ")"
   ]
  },
  {
   "cell_type": "code",
   "execution_count": null,
   "metadata": {
    "collapsed": true
   },
   "outputs": [],
   "source": []
  }
 ],
 "metadata": {
  "kernelspec": {
   "display_name": "Python 2",
   "language": "python",
   "name": "python2"
  },
  "language_info": {
   "codemirror_mode": {
    "name": "ipython",
    "version": 2
   },
   "file_extension": ".py",
   "mimetype": "text/x-python",
   "name": "python",
   "nbconvert_exporter": "python",
   "pygments_lexer": "ipython2",
   "version": "2.7.13"
  }
 },
 "nbformat": 4,
 "nbformat_minor": 2
}
