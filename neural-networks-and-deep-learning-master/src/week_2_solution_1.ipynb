{
 "cells": [
  {
   "cell_type": "code",
   "execution_count": 16,
   "metadata": {},
   "outputs": [
    {
     "name": "stdout",
     "output_type": "stream",
     "text": [
      "Training data, validation data and test data loaded.\n"
     ]
    }
   ],
   "source": [
    "import mnist_loader\n",
    "import numpy as np \n",
    "import pandas as pd \n",
    "\n",
    "training_data, validation_data, test_data = mnist_loader.load_data_wrapper()\n",
    "print(\"Training data, validation data and test data loaded.\")"
   ]
  },
  {
   "cell_type": "code",
   "execution_count": 18,
   "metadata": {},
   "outputs": [
    {
     "name": "stdout",
     "output_type": "stream",
     "text": [
      "Epoch 0 training complete\n",
      "Cost on training data: 0.562842841386\n",
      "Accuracy on training data: 46060 / 50000\n",
      "Cost on evaluation data: 0.687812199064\n",
      "Accuracy on evaluation data: 9234 / 10000\n",
      "\n",
      "Epoch 1 training complete\n",
      "Cost on training data: 0.42877813921\n",
      "Accuracy on training data: 47187 / 50000\n",
      "Cost on evaluation data: 0.617662405836\n",
      "Accuracy on evaluation data: 9427 / 10000\n",
      "\n"
     ]
    }
   ],
   "source": [
    "import network2\n",
    "network2 = reload(network2)\n",
    "net2_all_train = network2.Network([784,100, 10], cost=network2.CrossEntropyCost, activation_fn=network2.SigmoidActivation)\n",
    "net2_all_train.xavier_weight_initializer()\n",
    "\n",
    "evaluation_cost_all_train, evaluation_accuracy_all_train, training_cost_all_train, training_accuracy_all_train = net2_all_train.SGD(  \n",
    "    training_data=training_data, \n",
    "    epochs=2, \n",
    "    mini_batch_size=10, \n",
    "    eta=0.1,\n",
    "    evaluation_data=test_data,\n",
    "    lmbda=5.0,\n",
    "    monitor_evaluation_cost=True,\n",
    "    monitor_evaluation_accuracy=True,\n",
    "    monitor_training_cost=True,\n",
    "    monitor_training_accuracy=True\n",
    ")"
   ]
  },
  {
   "cell_type": "code",
   "execution_count": null,
   "metadata": {
    "collapsed": true
   },
   "outputs": [],
   "source": []
  }
 ],
 "metadata": {
  "kernelspec": {
   "display_name": "Python 2",
   "language": "python",
   "name": "python2"
  },
  "language_info": {
   "codemirror_mode": {
    "name": "ipython",
    "version": 2
   },
   "file_extension": ".py",
   "mimetype": "text/x-python",
   "name": "python",
   "nbconvert_exporter": "python",
   "pygments_lexer": "ipython2",
   "version": "2.7.13"
  }
 },
 "nbformat": 4,
 "nbformat_minor": 2
}
